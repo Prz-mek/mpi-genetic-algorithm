{
 "cells": [
  {
   "cell_type": "markdown",
   "metadata": {},
   "source": [
    "Genetic algorithm"
   ]
  },
  {
   "cell_type": "code",
   "execution_count": 39,
   "metadata": {},
   "outputs": [],
   "source": [
    "# imports\n",
    "import numpy as np\n",
    "import random\n",
    "import string"
   ]
  },
  {
   "cell_type": "markdown",
   "metadata": {},
   "source": [
    "Individual:"
   ]
  },
  {
   "cell_type": "code",
   "execution_count": 76,
   "metadata": {},
   "outputs": [],
   "source": [
    "class Individual:\n",
    "\n",
    "    def random():\n",
    "        pass\n",
    "\n",
    "    def get_fitness(self):\n",
    "        pass\n",
    "\n",
    "    def mutate(self):\n",
    "        pass\n",
    "\n",
    "    def crossover(self, other_individual):\n",
    "        pass\n",
    "\n",
    "\n",
    "    # some examples\n",
    "class HelloWorldIndividual(Individual):\n",
    "    def __init__(self, hromosome='aaaaaaaaaaa'):\n",
    "        self.hromosome = hromosome\n",
    "\n",
    "    def random():\n",
    "        return HelloWorldIndividual(''.join(random.choices(string.ascii_letters + ' ', k=11)))\n",
    "\n",
    "    def get_fitness(self):\n",
    "        a = 'Hello World'\n",
    "        b = self.hromosome\n",
    "        return 11 - sum (a[i] != b[i] for i in range(len(a)))\n",
    "\n",
    "    def mutate(self):\n",
    "        index = random.randint(0,10)\n",
    "        temp = list(self.hromosome)\n",
    "        temp[index] = random.choice(string.ascii_letters + ' ')\n",
    "        return HelloWorldIndividual(''.join(temp))\n",
    "\n",
    "    def crossover(self, other_individual):\n",
    "        index = random.randint(0,10)\n",
    "        return HelloWorldIndividual(self.hromosome[:index] + other_individual.hromosome[index:])\n",
    "\n",
    "    def __str__(self):\n",
    "        return self.hromosome"
   ]
  },
  {
   "cell_type": "markdown",
   "metadata": {},
   "source": [
    "Selection:"
   ]
  },
  {
   "cell_type": "code",
   "execution_count": 89,
   "metadata": {},
   "outputs": [],
   "source": [
    "class Selection:\n",
    "    def select(population):\n",
    "        pass\n",
    "\n",
    "\n",
    "class RouletteSelection(Selection):\n",
    "    def __init__(self):\n",
    "        pass\n",
    "\n",
    "    def select(self, population, num):\n",
    "        n = len(population)\n",
    "        wheel = np.zeros(len(population))\n",
    "        sum = 0.0\n",
    "        for i in range(n):\n",
    "            sum += population[i].get_fitness()\n",
    "            wheel[i] = sum\n",
    "        \n",
    "        wheel /= sum\n",
    "        new_population=[]\n",
    "        for i in range(num):\n",
    "            val = random.random()\n",
    "            j = 0\n",
    "            while (wheel[j] < val):\n",
    "                j += 1\n",
    "            new_population.append(population[j])\n",
    "\n",
    "        return new_population\n",
    "                    \n"
   ]
  },
  {
   "cell_type": "markdown",
   "metadata": {},
   "source": [
    "Scaling:"
   ]
  },
  {
   "cell_type": "code",
   "execution_count": 5,
   "metadata": {},
   "outputs": [],
   "source": [
    "class Scaling:\n",
    "    def scale_fitness(population):\n",
    "        pass\n",
    "\n",
    "\n",
    "class LinearScaling(Scaling):\n",
    "    def scale_fitness(population):\n",
    "        pass"
   ]
  },
  {
   "cell_type": "markdown",
   "metadata": {},
   "source": [
    "Population:"
   ]
  },
  {
   "cell_type": "code",
   "execution_count": 77,
   "metadata": {},
   "outputs": [],
   "source": [
    "class Polulation:\n",
    "    def __init__(self, selection, crossover_prob=0.4, mutation_prob=0.03, size=100):\n",
    "        self.crossover_prob = crossover_prob\n",
    "        self.mutation_prob = mutation_prob\n",
    "        self.selection = selection\n",
    "        self.population = []\n",
    "        for _ in range(size):\n",
    "            self.population.append(HelloWorldIndividual.random())\n",
    "\n",
    "    def crossover(self):\n",
    "        n = len(self.population)\n",
    "        for i in range(n):\n",
    "            for j in range(i+1,n):\n",
    "                val = random.random()\n",
    "                if val < self.crossover_prob:\n",
    "                    self.population.append(self.population[i].crossover(self.population[j]))\n",
    "\n",
    "    def mutate(self):\n",
    "        n = len(self.population)\n",
    "        for i in range(n):\n",
    "            val = random.random()\n",
    "            if val < self.crossover_prob:\n",
    "                self.population.append(self.population[i].mutate())\n",
    "\n",
    "    def select(self, num):\n",
    "        self.population = self.selection.select(self.population, num)\n",
    "\n",
    "\n",
    "    def get_best(self):\n",
    "        best = self.population[0]\n",
    "        for ind in self.population:\n",
    "            if best.get_fitness() < ind.get_fitness():\n",
    "                best = ind\n",
    "        return best\n",
    "\n",
    "    def get_all_results(self):\n",
    "        return self.population\n",
    "    "
   ]
  },
  {
   "cell_type": "markdown",
   "metadata": {},
   "source": [
    "algorithm:"
   ]
  },
  {
   "cell_type": "code",
   "execution_count": 93,
   "metadata": {},
   "outputs": [
    {
     "name": "stdout",
     "output_type": "stream",
     "text": [
      "Hello World\n",
      "11\n"
     ]
    }
   ],
   "source": [
    "population = Polulation(RouletteSelection())\n",
    "best = population.get_best()\n",
    "for i in range(100):\n",
    "    population.select(70)\n",
    "    population.crossover()\n",
    "    population.mutate()\n",
    "    temp_best = population.get_best()\n",
    "    if temp_best.get_fitness() > best.get_fitness():\n",
    "        best = temp_best\n",
    "\n",
    "temp_best = population.get_best()\n",
    "if temp_best.get_fitness() > best.get_fitness():\n",
    "    best = temp_best\n",
    "print(best)\n",
    "print(best.get_fitness())    "
   ]
  }
 ],
 "metadata": {
  "interpreter": {
   "hash": "e08c3dabc6253d596d029f6297e919e8fa8d727c80f075045f3e9b62b90b5e77"
  },
  "kernelspec": {
   "display_name": "Python 3.9.13 ('.venv': venv)",
   "language": "python",
   "name": "python3"
  },
  "language_info": {
   "codemirror_mode": {
    "name": "ipython",
    "version": 3
   },
   "file_extension": ".py",
   "mimetype": "text/x-python",
   "name": "python",
   "nbconvert_exporter": "python",
   "pygments_lexer": "ipython3",
   "version": "3.9.13"
  },
  "orig_nbformat": 4
 },
 "nbformat": 4,
 "nbformat_minor": 2
}
